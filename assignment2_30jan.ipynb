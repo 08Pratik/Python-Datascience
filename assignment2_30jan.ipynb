{
 "cells": [
  {
   "cell_type": "code",
   "execution_count": 2,
   "metadata": {},
   "outputs": [
    {
     "name": "stdout",
     "output_type": "stream",
     "text": [
      "Marks : 50 Grade : D \n"
     ]
    }
   ],
   "source": [
    "# ans 1 \n",
    "\n",
    "a=int(input())\n",
    "if a >90 :\n",
    "    print(f\"Marks : {a} Grade : A \")\n",
    "elif a>80 and a<=90:\n",
    "    print(f\"Marks : {a} Grade : B \")\n",
    "elif a>=60 and a<=80 :\n",
    "    print(f\"Marks : {a} Grade : C \")\n",
    "elif a<60:\n",
    "    print(f\"Marks : {a} Grade : D \")\n",
    "else:\n",
    "    print(\"this is wrong input !\")\n"
   ]
  },
  {
   "cell_type": "code",
   "execution_count": 4,
   "metadata": {},
   "outputs": [
    {
     "name": "stdout",
     "output_type": "stream",
     "text": [
      "125225,your tax is 18783.75\n"
     ]
    }
   ],
   "source": [
    "# ans 2\n",
    "\n",
    "cost=int(input())\n",
    "if cost > 100000 :\n",
    "    print(\"{},your tax is {}\".format(cost,cost*0.15))\n",
    "elif cost >50000 and cost <=100000:\n",
    "    print(\"{},your tax is {}\".format(cost,cost*0.10))\n",
    "elif cost <= 50000:\n",
    "    print(\"{},your tax is {}\".format(cost,cost*0.5))\n",
    "else:\n",
    "    print(\"This is wrong input !\")\n"
   ]
  },
  {
   "cell_type": "code",
   "execution_count": 7,
   "metadata": {},
   "outputs": [
    {
     "name": "stdout",
     "output_type": "stream",
     "text": [
      "monuments in this city is Red Fort.\n"
     ]
    }
   ],
   "source": [
    "# ans 3\n",
    "\n",
    "city=input(str())\n",
    "if city == 'Delhi':\n",
    "    print(\"monuments in this city is Red Fort.\")\n",
    "elif city == 'Agra':\n",
    "    print(\"monuments of this city is Taj Mahal.\")\n",
    "elif city == 'Jaipur':\n",
    "    print(\"monuments of this city is Jal Mahal.\")\n",
    "else:\n",
    "    print(\"this is wrong input !\")\n",
    "    "
   ]
  },
  {
   "cell_type": "code",
   "execution_count": 15,
   "metadata": {},
   "outputs": [
    {
     "name": "stdout",
     "output_type": "stream",
     "text": [
      "1\n"
     ]
    }
   ],
   "source": [
    "# 4.check how many times a given number can be divided by 3 before it is less than or equal to 10 .\n",
    "\n",
    "num=int(input())\n",
    "count=0\n",
    "while num >=10:\n",
    "    num=num/3\n",
    "    count += 1\n",
    "print(count-1)\n"
   ]
  },
  {
   "cell_type": "code",
   "execution_count": 17,
   "metadata": {},
   "outputs": [],
   "source": [
    "# 5. why and when to use while loop in python give a detailed description with example.\n",
    "# Ans : Python while loop use to run a block of code until a certain condition met .\n",
    "#        While(condition):\n",
    "#           (body of the while loop)\n",
    "# A loop evaluates condition\n",
    "# if the condition evaluates true ,the code inside the while loop is executed .\n",
    "# condition is evaluated again .\n",
    "# this process continue until the condition is false .\n",
    "# when condition evaluates false ,the loop stops ."
   ]
  },
  {
   "cell_type": "code",
   "execution_count": 18,
   "metadata": {},
   "outputs": [
    {
     "name": "stdout",
     "output_type": "stream",
     "text": [
      "       *\n",
      "      **\n",
      "     ***\n",
      "    ****\n",
      "   *****\n",
      "  ******\n"
     ]
    }
   ],
   "source": [
    "# 6.use nested while loop to print 3 diffrent pettern.\n",
    "# Ans :\n",
    "# pattern 1 \n",
    "\n",
    "a=1\n",
    "b=6\n",
    "c='*'\n",
    "d=' '\n",
    "while a<6:\n",
    "    while b>0:\n",
    "        print(d*b,c*a)\n",
    "        a+=1\n",
    "        b-=1\n",
    "\n"
   ]
  },
  {
   "cell_type": "code",
   "execution_count": 19,
   "metadata": {},
   "outputs": [
    {
     "name": "stdout",
     "output_type": "stream",
     "text": [
      "       *\n",
      "      ***\n",
      "     *****\n",
      "    *******\n",
      "   *********\n",
      "  ***********\n"
     ]
    }
   ],
   "source": [
    "# pattern 2\n",
    "\n",
    "a=1\n",
    "b=6\n",
    "c='*'\n",
    "d=' '\n",
    "while a<12:\n",
    "    while b>0:\n",
    "        print(d*b,c*a)\n",
    "        a+=2\n",
    "        b-=1"
   ]
  },
  {
   "cell_type": "code",
   "execution_count": 41,
   "metadata": {},
   "outputs": [
    {
     "name": "stdout",
     "output_type": "stream",
     "text": [
      "   *   *   *   *   *   *  \n",
      "    *   *   *   *   *  \n",
      "     *   *   *   *  \n",
      "      *   *   *  \n",
      "       *   *  \n",
      "        *  \n"
     ]
    }
   ],
   "source": [
    "# pattern 3\n",
    "\n",
    "a=1\n",
    "b=6\n",
    "c=' *  '\n",
    "d=' '\n",
    "while a<6:\n",
    "    while b>0:\n",
    "        print(d*a,c*b)\n",
    "        a+=1\n",
    "        b-=1"
   ]
  },
  {
   "cell_type": "code",
   "execution_count": 42,
   "metadata": {},
   "outputs": [
    {
     "name": "stdout",
     "output_type": "stream",
     "text": [
      "10\n",
      "9\n",
      "8\n",
      "7\n",
      "6\n",
      "5\n",
      "4\n",
      "3\n",
      "2\n",
      "1\n"
     ]
    }
   ],
   "source": [
    "# 7 reverse while loop to display number of 10 to 1.\n",
    "\n",
    "a=10\n",
    "while a>0:\n",
    "    print(a)\n",
    "    a-=1"
   ]
  },
  {
   "cell_type": "code",
   "execution_count": 43,
   "metadata": {},
   "outputs": [
    {
     "name": "stdout",
     "output_type": "stream",
     "text": [
      "10\n",
      "9\n",
      "8\n",
      "7\n",
      "6\n",
      "5\n",
      "4\n",
      "3\n",
      "2\n",
      "1\n"
     ]
    }
   ],
   "source": [
    "# 8 reverse while loop to display number of 10 to 1.\n",
    "\n",
    "a=10\n",
    "while a>0:\n",
    "    print(a)\n",
    "    a-=1"
   ]
  },
  {
   "cell_type": "code",
   "execution_count": null,
   "metadata": {},
   "outputs": [],
   "source": []
  }
 ],
 "metadata": {
  "kernelspec": {
   "display_name": "Python 3.10.7 64-bit (microsoft store)",
   "language": "python",
   "name": "python3"
  },
  "language_info": {
   "codemirror_mode": {
    "name": "ipython",
    "version": 3
   },
   "file_extension": ".py",
   "mimetype": "text/x-python",
   "name": "python",
   "nbconvert_exporter": "python",
   "pygments_lexer": "ipython3",
   "version": "3.10.7"
  },
  "orig_nbformat": 4,
  "vscode": {
   "interpreter": {
    "hash": "486e0d5a79acdbfffd563ee7a67a93a5017bd2a4f66495483a69f0245c8a4a6c"
   }
  }
 },
 "nbformat": 4,
 "nbformat_minor": 2
}
