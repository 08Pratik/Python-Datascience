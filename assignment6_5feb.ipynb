{
 "cells": [
  {
   "cell_type": "markdown",
   "metadata": {},
   "source": [
    "###  1. Explain Class and Object with respect to Object-Oriented Programming. Give a suitable example.\n",
    "#### Ans : \n",
    "#### Class :  Class is a set of object which shares common characteristics/ behavior and common properties/ attributes.Class is not a real world entity. It is just a template or blueprint or prototype from which objects are created.Class does not occupy memory.Class is a group of variables of different data types and group of methods.\n",
    "#### Objects : It is a basic unit of Object-Oriented Programming and represents real-life entities.\n",
    "\n",
    "\n"
   ]
  },
  {
   "cell_type": "code",
   "execution_count": 2,
   "metadata": {},
   "outputs": [],
   "source": [
    "# Example of class \n",
    "\n",
    "class dog():\n",
    "    def __init__(self,id,name):\n",
    "        self.id=id\n",
    "        self.name=name"
   ]
  },
  {
   "cell_type": "code",
   "execution_count": 3,
   "metadata": {},
   "outputs": [
    {
     "data": {
      "text/plain": [
       "'rockey'"
      ]
     },
     "execution_count": 3,
     "metadata": {},
     "output_type": "execute_result"
    }
   ],
   "source": [
    "#  Examples of object \n",
    "\n",
    "rockey=dog(1,\"rockey\")\n",
    "rockey.name"
   ]
  },
  {
   "cell_type": "markdown",
   "metadata": {},
   "source": [
    "### 2. Name the four pillars of OOPs.\n",
    "#### Ans : \n",
    "* Abstraction\n",
    "* Encapsulation\n",
    "* Inheritance\n",
    "* Polymorphism"
   ]
  },
  {
   "cell_type": "markdown",
   "metadata": {},
   "source": [
    "### Q3. Explain why the __init__() function is used. Give a suitable example\n",
    "#### Ans : All classes have a function called __init__(), which is always executed when the class is being initiated.\n",
    "\n",
    "#### Use the __init__() function to assign values to object properties, or other operations that are necessary to do when the object is being created:"
   ]
  },
  {
   "cell_type": "code",
   "execution_count": 4,
   "metadata": {},
   "outputs": [],
   "source": [
    "# here we have give value to rockey object in class dog by using init.\n",
    "\n",
    "\n",
    "class dog():\n",
    "    def __init__(self,id,name):\n",
    "        self.id=id\n",
    "        self.name=name\n",
    "rockey=dog(1,\"rockey\")"
   ]
  },
  {
   "cell_type": "markdown",
   "metadata": {},
   "source": [
    "### 4. Why self is used in OOPs?\n",
    "#### Ans : self represents the instance of the class. By using the “self”  we can access the attributes and methods of the class in python. It binds the attributes with the given arguments.\n",
    "\n",
    "#### The reason you need to use self. is because Python does not use the @ syntax to refer to instance attributes."
   ]
  },
  {
   "cell_type": "markdown",
   "metadata": {},
   "source": [
    "### 5. What is inheritance? Give an example for each type of inheritance\n",
    "#### Ans : \n",
    "#### Inheritance : Inheritance is defined as the mechanism of inheriting the properties of the base class to the child class\n",
    "#### Types of Inheritance :\n",
    "* single inheritance \n",
    "* multiple inheritance \n",
    "* multi level inheritance\n",
    "* heirarchicle inheritance \n",
    "* hybrid inheritance "
   ]
  },
  {
   "cell_type": "code",
   "execution_count": 5,
   "metadata": {},
   "outputs": [],
   "source": [
    "#  single inheritance \n",
    "\n",
    "class father:\n",
    "    def __init__(self,name):\n",
    "        self.name=name\n",
    "\n",
    "    def description(self):\n",
    "        print('name :',self.name)\n",
    "\n",
    "class son(father):\n",
    "    def __init__(self,name):\n",
    "        self.name=name\n",
    "\n",
    "    def info(self):\n",
    "        print('name :',self.name)\n"
   ]
  },
  {
   "cell_type": "code",
   "execution_count": 6,
   "metadata": {},
   "outputs": [],
   "source": [
    "# multiple inheritance\n",
    "\n",
    "class father:\n",
    "    def father(self):\n",
    "        print('hi i m father ')\n",
    "\n",
    "class mother:\n",
    "    def mother(self):\n",
    "        print('hi i m mother ')\n",
    "\n",
    "class son(father,mother):\n",
    "    def son(self):\n",
    "        print('hi i m son')"
   ]
  },
  {
   "cell_type": "code",
   "execution_count": 8,
   "metadata": {},
   "outputs": [],
   "source": [
    "# multilevel inheritance .\n",
    "\n",
    "class dad:\n",
    "    def dad(self):\n",
    "        print('hlo i m dad ')\n",
    "class child(dad):\n",
    "    def child(self):\n",
    "        print('hi i m child ')\n",
    "class grand_child(child):\n",
    "    def grand_child(self):\n",
    "        print('hi i m grand child ')"
   ]
  },
  {
   "cell_type": "code",
   "execution_count": 12,
   "metadata": {},
   "outputs": [],
   "source": [
    "# hierarchical inheritance .\n",
    "\n",
    "class dad:\n",
    "    def dad(self):\n",
    "        print('hi i m dad ')\n",
    "class child1(dad):\n",
    "    def child1(self):\n",
    "        print('hi i m child1')\n",
    "class child2(dad):\n",
    "    def child2(self):\n",
    "        print('hi i m child 2')    "
   ]
  },
  {
   "cell_type": "code",
   "execution_count": 13,
   "metadata": {},
   "outputs": [],
   "source": [
    "# hybrid inheritance\n",
    "\n",
    "class dad:\n",
    "    def dad(self):\n",
    "        print('hi i m dad ')\n",
    "class child1(dad):\n",
    "    def child1(self):\n",
    "        print('hi i m child1')\n",
    "class child2(dad):\n",
    "    def child2(self):\n",
    "        print('hi i m child2')\n",
    "class grand_child(child2):\n",
    "    def grand_child(self):\n",
    "        print('hi i m grand child ')"
   ]
  },
  {
   "cell_type": "code",
   "execution_count": null,
   "metadata": {},
   "outputs": [],
   "source": []
  }
 ],
 "metadata": {
  "kernelspec": {
   "display_name": "Python 3.10.7 64-bit (microsoft store)",
   "language": "python",
   "name": "python3"
  },
  "language_info": {
   "codemirror_mode": {
    "name": "ipython",
    "version": 3
   },
   "file_extension": ".py",
   "mimetype": "text/x-python",
   "name": "python",
   "nbconvert_exporter": "python",
   "pygments_lexer": "ipython3",
   "version": "3.10.7"
  },
  "orig_nbformat": 4,
  "vscode": {
   "interpreter": {
    "hash": "486e0d5a79acdbfffd563ee7a67a93a5017bd2a4f66495483a69f0245c8a4a6c"
   }
  }
 },
 "nbformat": 4,
 "nbformat_minor": 2
}
