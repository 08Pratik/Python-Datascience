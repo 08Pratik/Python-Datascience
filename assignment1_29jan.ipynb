{
 "cells": [
  {
   "cell_type": "markdown",
   "metadata": {},
   "source": [
    "### 1.Who Developed python programming language?\n",
    "####  Ans : Guido Van Rossum developed python programming language ."
   ]
  },
  {
   "cell_type": "markdown",
   "metadata": {},
   "source": [
    "### 2.which type of programming does python support?\n",
    "#### Ans : python is multi peradigm language .object oriented programming and structured programming are fully supported,and many of their features support functional programming and aspect oriented programming ."
   ]
  },
  {
   "cell_type": "markdown",
   "metadata": {},
   "source": [
    "### 3. Is python case sensitive when dealing with identifiers ?\n",
    "#### Ans :  yes"
   ]
  },
  {
   "cell_type": "markdown",
   "metadata": {},
   "source": [
    "### 4. What is the correct extension of python file ?\n",
    "#### Ans :correct extension of python file is .py,.pyi,.pyc,.pyc,.pyo,.pyw,and .pyz."
   ]
  },
  {
   "cell_type": "markdown",
   "metadata": {},
   "source": [
    "### 5. Is python code compiled or interpreted ?\n",
    "#### Ans : Python code is interpreted and compiled as well ."
   ]
  },
  {
   "cell_type": "markdown",
   "metadata": {},
   "source": [
    "### 6. Name of few blocks of code used to define in python language ?\n",
    "#### Ans : Indentetion is used to define block of code in python programming language. "
   ]
  },
  {
   "cell_type": "markdown",
   "metadata": {},
   "source": [
    "### 7. State a charecter used to giv single line comments in python ?\n",
    "#### Ans : Single Quotes and double quoted is used to define single line comments."
   ]
  },
  {
   "cell_type": "markdown",
   "metadata": {},
   "source": [
    "### 8. Mention function which can help us to find a version of python that we are currently working on ?\n",
    "#### Ans : sys.version "
   ]
  },
  {
   "cell_type": "markdown",
   "metadata": {},
   "source": [
    "### 9.Python supported creation of anonymous function at runtime using a constructed called ________?\n",
    "#### Ans : Lambda "
   ]
  },
  {
   "cell_type": "markdown",
   "metadata": {},
   "source": [
    "### 10. What does pip stands for python ?\n",
    "#### Ans : pip stands for preffered installer programme or pip installes packeges . "
   ]
  },
  {
   "cell_type": "markdown",
   "metadata": {},
   "source": [
    "### 11. Mention a few built in functions in python ?\n",
    "#### Ans : list(),len(),max(),mean(),min(),all(),any(),count() etc ..."
   ]
  },
  {
   "cell_type": "markdown",
   "metadata": {},
   "source": [
    "### 12. What is the maximum possible length of an identifier in python ?\n",
    "#### Ans : An identifiers can have 79 charecter maximum length in python ."
   ]
  },
  {
   "cell_type": "markdown",
   "metadata": {},
   "source": [
    "### 13. What are the benefits of using python ?\n",
    "#### Ans : 1) open source 2) easy to use 3) large amount of libraries 4) flexible 5)general purpose etc ..."
   ]
  },
  {
   "cell_type": "markdown",
   "metadata": {},
   "source": [
    "### 14. How is memory managed in python ? \n",
    "#### Ans : Memory management in python involves a private heap containing all python objects and data structures . The managementof the private heap is ensured internally by the python memory manager ."
   ]
  },
  {
   "cell_type": "markdown",
   "metadata": {},
   "source": [
    "### 15. How to install python on windows and set path variables ?\n",
    "#### Ans : we can install pythen thorough its official website and set variable path to go python.exe path copy path and go to properties click on advanced system setting in the left menu than click on environment variables button on the bottom of right than in the system variable section select the path variable and click on edit than screen will show all directories taht are currently part of path variables click on new and enter path there ."
   ]
  },
  {
   "cell_type": "markdown",
   "metadata": {},
   "source": [
    "### 16.Is indentatio requered in python ?\n",
    "#### Ans : Yes Whenever we type block of code we need to indentation ."
   ]
  }
 ],
 "metadata": {
  "kernelspec": {
   "display_name": "Python 3.10.7 64-bit (microsoft store)",
   "language": "python",
   "name": "python3"
  },
  "language_info": {
   "codemirror_mode": {
    "name": "ipython",
    "version": 3
   },
   "file_extension": ".py",
   "mimetype": "text/x-python",
   "name": "python",
   "nbconvert_exporter": "python",
   "pygments_lexer": "ipython3",
   "version": "3.10.7"
  },
  "orig_nbformat": 4,
  "vscode": {
   "interpreter": {
    "hash": "486e0d5a79acdbfffd563ee7a67a93a5017bd2a4f66495483a69f0245c8a4a6c"
   }
  }
 },
 "nbformat": 4,
 "nbformat_minor": 2
}
